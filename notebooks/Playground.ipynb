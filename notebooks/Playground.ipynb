{
 "cells": [
  {
   "cell_type": "code",
   "execution_count": 1,
   "id": "fixed-tender",
   "metadata": {},
   "outputs": [
    {
     "name": "stdout",
     "output_type": "stream",
     "text": [
      "Best inertia: 78.78849281329411 , iteration: 3\n",
      "KMN best inertia: 78.78849281329416\n"
     ]
    }
   ],
   "source": [
    "import numpy as np\n",
    "import matplotlib.pyplot as plt\n",
    "import random\n",
    "\n",
    "from sklearn.cluster import KMeans\n",
    "from sklearn.datasets import make_blobs\n",
    "from sklearn.metrics.pairwise import euclidean_distances\n",
    "from sklearn.model_selection import train_test_split\n",
    "\n",
    "\n",
    "n_samples = 10\n",
    "random_state = 170\n",
    "X, y, centers = make_blobs(n_samples=n_samples, n_features=2, centers=3, random_state=random_state, return_centers=True)\n",
    "# print(centers)\n",
    "\n",
    "random.seed(42)\n",
    "n_clusters = 2\n",
    "cluster_centers_ = X[random.sample(range(len(X)),n_clusters)]\n",
    "inertia_ = 999999999\n",
    "# cluster_centers_  = X[[0,1]]\n",
    "for i in range(10):\n",
    "#     print(cluster_centers_[0])\n",
    "\n",
    "    # Reassign points to its closest center\n",
    "    dists = euclidean_distances(X,cluster_centers_)\n",
    "    labels_ = [np.argmin(x) for x in dists]\n",
    "\n",
    "    # Update cluster_centers_\n",
    "    for j in range(n_clusters):\n",
    "        cluster_centers_[j] = np.mean([X[idx] for idx,lbl in enumerate(labels_) if lbl == j],axis=0)\n",
    "        \n",
    "    # Calculate inertia - End condition\n",
    "    curr_inertia_ = sum([min(x)**2 for x in dists])\n",
    "    if(inertia_ == curr_inertia_):\n",
    "        print(f'Best inertia: {inertia_} , iteration: {i+1}')\n",
    "        break\n",
    "    inertia_ = curr_inertia_\n",
    "    \n",
    "\n",
    "kmn = KMeans(n_clusters=n_clusters, init=cluster_centers_, n_init=1).fit(X)\n",
    "print(f'KMN best inertia: {kmn.inertia_}')\n",
    "    \n",
    "    \n",
    "# print(dists)\n",
    "# print(min_dists)\n",
    "\n",
    "\n",
    "# kmn = KMeans(n_clusters=2, random_state=random_state, init='random', n_init=1).fit(X)\n",
    "# print(kmn.cluster_centers_)\n",
    "\n",
    "# plt.figure(figsize=(7, 7))\n",
    "\n",
    "# plt.subplot(221)\n",
    "# plt.scatter(X[:, 0], X[:, 1], c=y)\n",
    "# plt.scatter(centers[:,0], centers[:,1], c='red', marker='+', s=50)\n",
    "# plt.scatter(kmn.cluster_centers_[:,0], kmn.cluster_centers_[:,1], c='blue', marker='^', s=50)\n",
    "# plt.title(\"Correct number of Blobs\")\n",
    "# plt.show()\n",
    "\n",
    "# from scipy.spatial import ConvexHull, convex_hull_plot_2d\n",
    "# hull = ConvexHull(X)\n",
    "# plt.plot(X[:,0], X[:,1], 'o')\n",
    "# for simplex in hull.simplices:\n",
    "#     plt.plot(X[simplex, 0], X[simplex, 1], 'k-')\n"
   ]
  },
  {
   "cell_type": "code",
   "execution_count": 2,
   "id": "valued-might",
   "metadata": {},
   "outputs": [
    {
     "ename": "ModuleNotFoundError",
     "evalue": "No module named 'src.classifiers'",
     "output_type": "error",
     "traceback": [
      "\u001b[0;31m---------------------------------------------------------------------------\u001b[0m",
      "\u001b[0;31mModuleNotFoundError\u001b[0m                       Traceback (most recent call last)",
      "\u001b[0;32m<ipython-input-2-5509af2c92ab>\u001b[0m in \u001b[0;36m<module>\u001b[0;34m\u001b[0m\n\u001b[0;32m----> 1\u001b[0;31m \u001b[0;32mfrom\u001b[0m \u001b[0msrc\u001b[0m\u001b[0;34m.\u001b[0m\u001b[0mclassifiers\u001b[0m\u001b[0;34m.\u001b[0m\u001b[0m_kmeansbayes\u001b[0m \u001b[0;32mimport\u001b[0m \u001b[0mKMeansBayes\u001b[0m\u001b[0;34m\u001b[0m\u001b[0;34m\u001b[0m\u001b[0m\n\u001b[0m",
      "\u001b[0;31mModuleNotFoundError\u001b[0m: No module named 'src.classifiers'"
     ]
    }
   ],
   "source": [
    "from src.classifiers._kmeansbayes import KMeansBayes"
   ]
  },
  {
   "cell_type": "code",
   "execution_count": null,
   "id": "rising-driving",
   "metadata": {},
   "outputs": [],
   "source": []
  }
 ],
 "metadata": {
  "kernelspec": {
   "display_name": "Python 3",
   "language": "python",
   "name": "python3"
  },
  "language_info": {
   "codemirror_mode": {
    "name": "ipython",
    "version": 3
   },
   "file_extension": ".py",
   "mimetype": "text/x-python",
   "name": "python",
   "nbconvert_exporter": "python",
   "pygments_lexer": "ipython3",
   "version": "3.6.9"
  }
 },
 "nbformat": 4,
 "nbformat_minor": 5
}
