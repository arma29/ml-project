{
 "cells": [
  {
   "cell_type": "code",
   "execution_count": 63,
   "id": "surprising-introduction",
   "metadata": {},
   "outputs": [
    {
     "name": "stdout",
     "output_type": "stream",
     "text": [
      "[array([-1.69748976, -0.79978057]), array([-1.713602  , -0.43042058]), array([-1.83251232, -1.00863494]), array([-2.53478858,  0.57298938]), array([-2.15787834,  0.39462506]), array([-2.63703639, -0.90417212]), array([-3.41314036,  0.51732691]), array([-1.14457951, -1.1863906 ]), array([-2.59244112, -0.72997006]), array([-2.16922514, -0.63779507]), array([-2.08365411,  0.70316328]), array([-2.1348486 , -0.50723671]), array([-2.61787324,  1.64058505]), array([-2.30955842, -0.18056783]), array([-1.70018709, -1.01214647])]\n",
      "(15, 2)\n",
      "(15, 2)\n"
     ]
    }
   ],
   "source": [
    "from time import time\n",
    "import numpy as np\n",
    "import matplotlib.pyplot as plt\n",
    "import random\n",
    "from sklearn.datasets import make_blobs\n",
    "\n",
    "def measure_time(magic_number,func, *args):\n",
    "    time_arr = []\n",
    "    for _ in range(magic_number):    \n",
    "        stats = time()\n",
    "        func(args)\n",
    "        time_arr.append(time()-stats)\n",
    "    return np.mean(np.array(time_arr))\n",
    "\n",
    "def plot_complexity(magic_number):\n",
    "    N = np.logspace(2,4,40)\n",
    "    output = []\n",
    "    for i,n in enumerate(N):\n",
    "        n = int(n)\n",
    "        time_arr = []\n",
    "        for _ in range(magic_number):    \n",
    "            stats = time()\n",
    "#             random.sample(range(n),k=n)\n",
    "            indices = np.random.choice(a = range(0, 10), \n",
    "                               replace = True, \n",
    "                               size = n)\n",
    "            time_arr.append(time()-stats)\n",
    "        output.append(np.mean(np.array(time_arr)))\n",
    "    \n",
    "    plt.title('x')\n",
    "    plt.xlabel('N')\n",
    "    plt.ylabel('Time (s)')\n",
    "    plt.plot(N, output)\n",
    "\n",
    "def random_partition(X,k):\n",
    "#     indices = np.random.choice(a = range(0, k), size = X.shape[0])\n",
    "    indices = np.array(random.choices(range(0,k), k=X.shape[0]))\n",
    "    mean = []\n",
    "    for count in range(k):\n",
    "#         print(len(X[indices == count]))\n",
    "        mean.append(X[indices == count].mean(axis=0))\n",
    "    \n",
    "    print(mean)\n",
    "    print(np.vstack(mean).shape)\n",
    "    return np.concatenate([val[ None, :] for val in mean], axis = 0)\n",
    "\n",
    "n_samples = 1500\n",
    "n_centers = 15\n",
    "random_state = 42\n",
    "X, y, centers = make_blobs(n_samples=n_samples, n_features=2, centers=n_centers, random_state=random_state, return_centers=True)\n",
    "\n",
    "print(random_partition(X,n_centers).shape)\n",
    "\n",
    "# print(f'np random choices: {measure_time(3000,np.random.choice,range(0,n_centers), X.shape[0])} segundos')\n",
    "# print(f'random choices: {measure_time(3000,random.choices,range(0,n_centers), None, None, X.shape[0])} segundos')\n",
    "# plot_complexity(5)\n",
    "\n"
   ]
  }
 ],
 "metadata": {
  "kernelspec": {
   "display_name": "Python 3",
   "language": "python",
   "name": "python3"
  },
  "language_info": {
   "codemirror_mode": {
    "name": "ipython",
    "version": 3
   },
   "file_extension": ".py",
   "mimetype": "text/x-python",
   "name": "python",
   "nbconvert_exporter": "python",
   "pygments_lexer": "ipython3",
   "version": "3.6.9"
  }
 },
 "nbformat": 4,
 "nbformat_minor": 5
}
