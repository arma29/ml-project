{
 "cells": [
  {
   "cell_type": "code",
   "execution_count": 1,
   "id": "fixed-tender",
   "metadata": {},
   "outputs": [
    {
     "name": "stdout",
     "output_type": "stream",
     "text": [
      "Best inertia: 78.78849281329411 , iteration: 3\n",
      "KMN best inertia: 78.78849281329416\n"
     ]
    }
   ],
   "source": [
    "import numpy as np\n",
    "import matplotlib.pyplot as plt\n",
    "import random\n",
    "\n",
    "from sklearn.cluster import KMeans\n",
    "from sklearn.datasets import make_blobs\n",
    "from sklearn.metrics.pairwise import euclidean_distances\n",
    "from sklearn.model_selection import train_test_split\n",
    "\n",
    "\n",
    "n_samples = 10\n",
    "random_state = 170\n",
    "X, y, centers = make_blobs(n_samples=n_samples, n_features=2, centers=3, random_state=random_state, return_centers=True)\n",
    "# print(centers)\n",
    "\n",
    "random.seed(42)\n",
    "n_clusters = 2\n",
    "cluster_centers_ = X[random.sample(range(len(X)),n_clusters)]\n",
    "inertia_ = 999999999\n",
    "# cluster_centers_  = X[[0,1]]\n",
    "for i in range(10):\n",
    "#     print(cluster_centers_[0])\n",
    "\n",
    "    # Reassign points to its closest center\n",
    "    dists = euclidean_distances(X,cluster_centers_)\n",
    "    labels_ = [np.argmin(x) for x in dists]\n",
    "\n",
    "    # Update cluster_centers_\n",
    "    for j in range(n_clusters):\n",
    "        cluster_centers_[j] = np.mean([X[idx] for idx,lbl in enumerate(labels_) if lbl == j],axis=0)\n",
    "        \n",
    "    # Calculate inertia - End condition\n",
    "    curr_inertia_ = sum([min(x)**2 for x in dists])\n",
    "    if(inertia_ == curr_inertia_):\n",
    "        print(f'Best inertia: {inertia_} , iteration: {i+1}')\n",
    "        break\n",
    "    inertia_ = curr_inertia_\n",
    "    \n",
    "\n",
    "kmn = KMeans(n_clusters=n_clusters, init=cluster_centers_, n_init=1).fit(X)\n",
    "print(f'KMN best inertia: {kmn.inertia_}')\n",
    "    \n",
    "    \n",
    "# print(dists)\n",
    "# print(min_dists)\n",
    "\n",
    "\n",
    "# kmn = KMeans(n_clusters=2, random_state=random_state, init='random', n_init=1).fit(X)\n",
    "# print(kmn.cluster_centers_)\n",
    "\n",
    "# plt.figure(figsize=(7, 7))\n",
    "\n",
    "# plt.subplot(221)\n",
    "# plt.scatter(X[:, 0], X[:, 1], c=y)\n",
    "# plt.scatter(centers[:,0], centers[:,1], c='red', marker='+', s=50)\n",
    "# plt.scatter(kmn.cluster_centers_[:,0], kmn.cluster_centers_[:,1], c='blue', marker='^', s=50)\n",
    "# plt.title(\"Correct number of Blobs\")\n",
    "# plt.show()\n",
    "\n",
    "# from scipy.spatial import ConvexHull, convex_hull_plot_2d\n",
    "# hull = ConvexHull(X)\n",
    "# plt.plot(X[:,0], X[:,1], 'o')\n",
    "# for simplex in hull.simplices:\n",
    "#     plt.plot(X[simplex, 0], X[simplex, 1], 'k-')\n"
   ]
  },
  {
   "cell_type": "code",
   "execution_count": 14,
   "id": "valued-might",
   "metadata": {},
   "outputs": [
    {
     "name": "stdout",
     "output_type": "stream",
     "text": [
      "[2.4 1.2]\n",
      "[1.6 0.8]\n"
     ]
    },
    {
     "data": {
      "image/png": "[encoded data removed]",
      "text/plain": [
       "<Figure size 432x288 with 1 Axes>"
      ]
     },
     "metadata": {
      "needs_background": "light"
     },
     "output_type": "display_data"
    }
   ],
   "source": [
    "from skspatial.objects import Line\n",
    "from skspatial.objects import Point\n",
    "from skspatial.plotting import plot_2d\n",
    "\n",
    "\n",
    "line = Line(point=[0, 0], direction=[2, 1])\n",
    "point = Point([1, 4])\n",
    "p2 = Point([0.5,3])\n",
    "\n",
    "point_projected = line.project_point(point)\n",
    "p2_projected = line.project_point(p2)\n",
    "line_projection = Line.from_points(point, point_projected)\n",
    "line2_projection = Line.from_points(p2,p2_projected)\n",
    "\n",
    "_, ax = plot_2d(\n",
    "    line.plotter(t_2=5, c='k'),\n",
    "    line_projection.plotter(c='k', linestyle='--'),\n",
    "    line2_projection.plotter(c='k', linestyle='--'),\n",
    "    point.plotter(s=75, c='k'),\n",
    "    point_projected.plotter(c='r', s=75, zorder=3),\n",
    "    p2.plotter(s=75, c='k'),\n",
    "    p2_projected.plotter(c='r', s=75, zorder=3),\n",
    ")\n",
    "\n",
    "ax.axis('equal')\n",
    "\n",
    "print(point_projected)\n",
    "print(p2_projected)"
   ]
  },
  {
   "cell_type": "code",
   "execution_count": 21,
   "id": "threaded-madrid",
   "metadata": {},
   "outputs": [
    {
     "name": "stdout",
     "output_type": "stream",
     "text": [
      "0.6923076923076923\n",
      "0.3076923076923077\n"
     ]
    },
    {
     "data": {
      "text/plain": [
       "array([-0.92307692, -0.61538462])"
      ]
     },
     "execution_count": 21,
     "metadata": {},
     "output_type": "execute_result"
    }
   ],
   "source": [
    "v = np.array([3,2])\n",
    "u = np.array([0,0])\n",
    "x = np.array([1,3])\n",
    "\n",
    "c = np.dot((v-u), (x-u))/np.dot((v-u), (v-u))\n",
    "print(c)\n",
    "c*(v-u)\n",
    "\n",
    "c = np.dot((u-v), (x-v))/np.dot((u-v), (u-v))\n",
    "print(c)\n",
    "c*(u-v)\n"
   ]
  }
 ],
 "metadata": {
  "kernelspec": {
   "display_name": "Python 3",
   "language": "python",
   "name": "python3"
  },
  "language_info": {
   "codemirror_mode": {
    "name": "ipython",
    "version": 3
   },
   "file_extension": ".py",
   "mimetype": "text/x-python",
   "name": "python",
   "nbconvert_exporter": "python",
   "pygments_lexer": "ipython3",
   "version": "3.6.9"
  }
 },
 "nbformat": 4,
 "nbformat_minor": 5
}
